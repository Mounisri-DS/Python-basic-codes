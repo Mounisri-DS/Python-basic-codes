{
 "cells": [
  {
   "cell_type": "code",
   "execution_count": 1,
   "id": "177d1708",
   "metadata": {},
   "outputs": [
    {
     "name": "stdout",
     "output_type": "stream",
     "text": [
      "Enter a phrase:Artificial Neural Networks\n",
      " ANN\n"
     ]
    }
   ],
   "source": [
    "user_input=str(input(\"Enter a phrase:\"))\n",
    "text=user_input.split()\n",
    "a=\" \"\n",
    "for i in text:\n",
    "    a=a+str(i[0]).upper()\n",
    "print(a)       "
   ]
  },
  {
   "cell_type": "code",
   "execution_count": null,
   "id": "b459f803",
   "metadata": {},
   "outputs": [],
   "source": []
  }
 ],
 "metadata": {
  "kernelspec": {
   "display_name": "Python 3",
   "language": "python",
   "name": "python3"
  },
  "language_info": {
   "codemirror_mode": {
    "name": "ipython",
    "version": 3
   },
   "file_extension": ".py",
   "mimetype": "text/x-python",
   "name": "python",
   "nbconvert_exporter": "python",
   "pygments_lexer": "ipython3",
   "version": "3.8.8"
  }
 },
 "nbformat": 4,
 "nbformat_minor": 5
}
