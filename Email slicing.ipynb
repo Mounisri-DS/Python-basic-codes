{
 "cells": [
  {
   "cell_type": "code",
   "execution_count": 1,
   "id": "21975d92",
   "metadata": {},
   "outputs": [
    {
     "name": "stdout",
     "output_type": "stream",
     "text": [
      "Enter your email: abcdef@gmail.com\n",
      "your user name is 'abcdef' and your domain is 'gmail.com'\n"
     ]
    }
   ],
   "source": [
    "email=input('Enter your email: ').strip()\n",
    "username=email[:email.index(\"@\")]\n",
    "domainname=email[email.index(\"@\")+1:]\n",
    "format_=(f\"your user name is '{username}' and your domain is '{domainname}'\")\n",
    "print(format_)"
   ]
  },
  {
   "cell_type": "code",
   "execution_count": 2,
   "id": "f04c65c9",
   "metadata": {},
   "outputs": [
    {
     "name": "stdout",
     "output_type": "stream",
     "text": [
      "Your user name is 'abcdef' and your domain name is 'gmail.com' \n"
     ]
    }
   ],
   "source": [
    "print(\"Your user name is '{}' and your domain name is '{}' \".format(username,domainname))"
   ]
  },
  {
   "cell_type": "code",
   "execution_count": null,
   "id": "340600ef",
   "metadata": {},
   "outputs": [],
   "source": []
  }
 ],
 "metadata": {
  "kernelspec": {
   "display_name": "Python 3",
   "language": "python",
   "name": "python3"
  },
  "language_info": {
   "codemirror_mode": {
    "name": "ipython",
    "version": 3
   },
   "file_extension": ".py",
   "mimetype": "text/x-python",
   "name": "python",
   "nbconvert_exporter": "python",
   "pygments_lexer": "ipython3",
   "version": "3.8.8"
  }
 },
 "nbformat": 4,
 "nbformat_minor": 5
}
