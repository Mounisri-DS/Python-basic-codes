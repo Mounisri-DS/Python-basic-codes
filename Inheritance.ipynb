{
 "cells": [
  {
   "cell_type": "code",
   "execution_count": 22,
   "id": "521f360e",
   "metadata": {},
   "outputs": [],
   "source": [
    "class Company():\n",
    "    def __init__(self,name,employees,floors,turnover,location):\n",
    "        self.name=name\n",
    "        self.employees=employees\n",
    "        self.floors=floors\n",
    "        self.turnover=turnover\n",
    "        self.location=location\n",
    "    def environment(self):\n",
    "        print(\"The company {}'s work environmwnt is good.\".format(self.name))"
   ]
  },
  {
   "cell_type": "code",
   "execution_count": 23,
   "id": "dab1521a",
   "metadata": {},
   "outputs": [],
   "source": [
    "company=Company(\"ICICI\",200,5,300,\"Gachibowli\")"
   ]
  },
  {
   "cell_type": "code",
   "execution_count": 24,
   "id": "72bcebe7",
   "metadata": {},
   "outputs": [
    {
     "data": {
      "text/plain": [
       "'ICICI'"
      ]
     },
     "execution_count": 24,
     "metadata": {},
     "output_type": "execute_result"
    }
   ],
   "source": [
    "company.name"
   ]
  },
  {
   "cell_type": "code",
   "execution_count": 25,
   "id": "8be5573d",
   "metadata": {},
   "outputs": [
    {
     "name": "stdout",
     "output_type": "stream",
     "text": [
      "The company ICICI's work environmwnt is good.\n"
     ]
    }
   ],
   "source": [
    "company.environment()"
   ]
  },
  {
   "cell_type": "code",
   "execution_count": 26,
   "id": "b29470e0",
   "metadata": {},
   "outputs": [
    {
     "data": {
      "text/plain": [
       "['__class__',\n",
       " '__delattr__',\n",
       " '__dict__',\n",
       " '__dir__',\n",
       " '__doc__',\n",
       " '__eq__',\n",
       " '__format__',\n",
       " '__ge__',\n",
       " '__getattribute__',\n",
       " '__gt__',\n",
       " '__hash__',\n",
       " '__init__',\n",
       " '__init_subclass__',\n",
       " '__le__',\n",
       " '__lt__',\n",
       " '__module__',\n",
       " '__ne__',\n",
       " '__new__',\n",
       " '__reduce__',\n",
       " '__reduce_ex__',\n",
       " '__repr__',\n",
       " '__setattr__',\n",
       " '__sizeof__',\n",
       " '__str__',\n",
       " '__subclasshook__',\n",
       " '__weakref__',\n",
       " 'employees',\n",
       " 'environment',\n",
       " 'floors',\n",
       " 'location',\n",
       " 'name',\n",
       " 'turnover']"
      ]
     },
     "execution_count": 26,
     "metadata": {},
     "output_type": "execute_result"
    }
   ],
   "source": [
    "dir(company)"
   ]
  },
  {
   "cell_type": "code",
   "execution_count": 31,
   "id": "eb8c3d1e",
   "metadata": {},
   "outputs": [],
   "source": [
    "class Branch(Company):\n",
    "    def __init__(self,name,employees,floors,turnover,location,branchlocation):\n",
    "        super().__init__(name,employees,floors,turnover,location)\n",
    "        self.branchlocation=branchlocation\n",
    "    def newlocation(self):\n",
    "        print(\"The new location {} is best\".format(self.branchlocation))"
   ]
  },
  {
   "cell_type": "code",
   "execution_count": 32,
   "id": "ce02194f",
   "metadata": {},
   "outputs": [],
   "source": [
    "bank=Branch('ICICI',200,5,360,'Gachibowli','Srnagar')"
   ]
  },
  {
   "cell_type": "code",
   "execution_count": 33,
   "id": "dbfd7737",
   "metadata": {},
   "outputs": [
    {
     "name": "stdout",
     "output_type": "stream",
     "text": [
      "The new location Srnagar is best\n"
     ]
    }
   ],
   "source": [
    "bank.newlocation()"
   ]
  },
  {
   "cell_type": "code",
   "execution_count": 34,
   "id": "c74c01bc",
   "metadata": {},
   "outputs": [
    {
     "name": "stdout",
     "output_type": "stream",
     "text": [
      "The company ICICI's work environmwnt is good.\n"
     ]
    }
   ],
   "source": [
    "bank.environment()"
   ]
  },
  {
   "cell_type": "code",
   "execution_count": 35,
   "id": "203cc5fa",
   "metadata": {},
   "outputs": [
    {
     "data": {
      "text/plain": [
       "['__class__',\n",
       " '__delattr__',\n",
       " '__dict__',\n",
       " '__dir__',\n",
       " '__doc__',\n",
       " '__eq__',\n",
       " '__format__',\n",
       " '__ge__',\n",
       " '__getattribute__',\n",
       " '__gt__',\n",
       " '__hash__',\n",
       " '__init__',\n",
       " '__init_subclass__',\n",
       " '__le__',\n",
       " '__lt__',\n",
       " '__module__',\n",
       " '__ne__',\n",
       " '__new__',\n",
       " '__reduce__',\n",
       " '__reduce_ex__',\n",
       " '__repr__',\n",
       " '__setattr__',\n",
       " '__sizeof__',\n",
       " '__str__',\n",
       " '__subclasshook__',\n",
       " '__weakref__',\n",
       " 'branchlocation',\n",
       " 'employees',\n",
       " 'environment',\n",
       " 'floors',\n",
       " 'location',\n",
       " 'name',\n",
       " 'newlocation',\n",
       " 'turnover']"
      ]
     },
     "execution_count": 35,
     "metadata": {},
     "output_type": "execute_result"
    }
   ],
   "source": [
    "dir(bank)"
   ]
  },
  {
   "cell_type": "code",
   "execution_count": null,
   "id": "ecfd142c",
   "metadata": {},
   "outputs": [],
   "source": []
  }
 ],
 "metadata": {
  "kernelspec": {
   "display_name": "Python 3",
   "language": "python",
   "name": "python3"
  },
  "language_info": {
   "codemirror_mode": {
    "name": "ipython",
    "version": 3
   },
   "file_extension": ".py",
   "mimetype": "text/x-python",
   "name": "python",
   "nbconvert_exporter": "python",
   "pygments_lexer": "ipython3",
   "version": "3.8.8"
  }
 },
 "nbformat": 4,
 "nbformat_minor": 5
}
